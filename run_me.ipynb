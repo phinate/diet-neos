{
 "cells": [
  {
   "cell_type": "code",
   "execution_count": 1,
   "metadata": {},
   "outputs": [],
   "source": [
    "from dietneos.maker import model_maker\n",
    "from dietneos.infer import expected_CLs\n",
    "\n",
    "import jax\n",
    "import jax.numpy as jnp\n",
    "\n",
    "mm = model_maker()\n",
    "run = expected_CLs(mm, solver_kwargs=dict(pdf_transform=True))"
   ]
  },
  {
   "cell_type": "code",
   "execution_count": 2,
   "metadata": {},
   "outputs": [
    {
     "data": {
      "text/plain": [
       "[DeviceArray(0.12524199, dtype=float64)]"
      ]
     },
     "execution_count": 2,
     "metadata": {},
     "output_type": "execute_result"
    }
   ],
   "source": [
    "\n",
    "s = [5.,5.]\n",
    "b = [10.,20.]\n",
    "bup = [12.,21.]\n",
    "bdown = [8.,19.]\n",
    "\n",
    "run(jnp.array([s,b,bup,bdown]), test_mu=1.)"
   ]
  },
  {
   "cell_type": "code",
   "execution_count": 3,
   "metadata": {},
   "outputs": [
    {
     "data": {
      "text/plain": [
       "DeviceArray([[-0.04244345, -0.02840473],\n",
       "             [ 0.03676826,  0.02288032],\n",
       "             [ 0.        ,  0.        ],\n",
       "             [-0.02992654, -0.02002795]], dtype=float64)"
      ]
     },
     "execution_count": 3,
     "metadata": {},
     "output_type": "execute_result"
    }
   ],
   "source": [
    "def get_cls(yields, test_mu=1.):\n",
    "    return run(yields=yields, test_mu=test_mu)[0]\n",
    "\n",
    "jax.grad(get_cls)(jnp.array([s,b,bup,bdown]))"
   ]
  },
  {
   "cell_type": "code",
   "execution_count": null,
   "metadata": {},
   "outputs": [],
   "source": []
  }
 ],
 "metadata": {
  "kernelspec": {
   "display_name": "Python 3",
   "language": "python",
   "name": "python3"
  },
  "language_info": {
   "codemirror_mode": {
    "name": "ipython",
    "version": 3
   },
   "file_extension": ".py",
   "mimetype": "text/x-python",
   "name": "python",
   "nbconvert_exporter": "python",
   "pygments_lexer": "ipython3",
   "version": "3.8.3"
  }
 },
 "nbformat": 4,
 "nbformat_minor": 4
}
